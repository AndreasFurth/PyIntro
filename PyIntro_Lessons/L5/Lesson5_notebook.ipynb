{
 "cells": [
  {
   "cell_type": "markdown",
   "metadata": {},
   "source": [
    "Felhantering i python\n",
    "===================================\n",
    "\n",
    "LBYL + EAFP"
   ]
  },
  {
   "cell_type": "code",
   "execution_count": 11,
   "metadata": {},
   "outputs": [
    {
     "name": "stdout",
     "output_type": "stream",
     "text": [
      "The value of x/y is 0.875, x is equal to 7 and y is 8.0\n",
      "The value of x/y is value\n",
      "The value of x/y is  0.875 x is equal to  7 and y is  8.0\n"
     ]
    }
   ],
   "source": [
    "# LBYL \n",
    "\n",
    "x = 7\n",
    "y = float(input(\"Sätt en siffra\"))\n",
    "\n",
    "# Vi skapar en if-sats som först kollar om vår nämnare är 0\n",
    "# om inte, så skapar den en ny variabel value, som är x/y\n",
    "# ALLTSÅ: Vi fångar fel som uppstår, innan de uppstår\n",
    "if y == 0:\n",
    "    print(\"Can't divide by zero, choose a different number\")\n",
    "else:\n",
    "    value = x/y\n",
    "    print(f\"The value of x/y is {value}, x is equal to {x} and y is {y}\")\n",
    "    print(\"The value of x/y is value\")\n",
    "    print(\"The value of x/y is \", value, \"x is equal to \", x, \"and y is \", y)"
   ]
  },
  {
   "cell_type": "code",
   "execution_count": null,
   "metadata": {},
   "outputs": [
    {
     "name": "stdout",
     "output_type": "stream",
     "text": [
      "We need a number\n",
      "Divison failed or not\n"
     ]
    }
   ],
   "source": [
    "# EAFP\n",
    "\n",
    "# Vår input i cellen ovan kunde få errors.\n",
    "# Vi fångade division med noll, men missade\n",
    "# t.ex strängar. Kan vi hantera detta smidigt?\n",
    "\n",
    "x = 7\n",
    "try:\n",
    "    # Här genererar vi ny data för variabel y\n",
    "    # Det kan gå väldigt snett\n",
    "    y = float(input(\"Sätt en siffra: \"))\n",
    "    value = x / y\n",
    "    print(f\"Value of x/y is {value}\")\n",
    "except (ZeroDivisionError, ValueError): \n",
    "    print(\"Can't divide by zero\")\n",
    "except ValueError:\n",
    "    print(\"We need a number\")\n",
    "except Exception:\n",
    "    print(\"something else went wrong\")\n",
    "finally:\n",
    "    print(\"Divison failed or not\")"
   ]
  },
  {
   "cell_type": "code",
   "execution_count": null,
   "id": "1bd518c5",
   "metadata": {},
   "outputs": [],
   "source": [
    "# EAFP + While\n",
    "\n",
    "# Vår input i cellen ovan kunde få errors.\n",
    "# Vi fångade division med noll, men missade\n",
    "# t.ex strängar. Kan vi hantera detta smidigt?\n",
    "\n",
    "x = 7\n",
    "tries = 0\n",
    "\n",
    "# I vår while-loop nedan, försöker vi dela \n",
    "# ett tal med ett annat, vi försöker dela \n",
    "# x med y. Om vi lyckas, är loopen klar-\n",
    "while tries < 5:\n",
    "    try:\n",
    "        # Här genererar vi ny data för variabel y\n",
    "        # Det kan gå väldigt snett\n",
    "        y = float(input(\"Sätt en siffra: \"))\n",
    "        value = x / y\n",
    "        print(f\"Value of x/y is {value}\")\n",
    "    except ZeroDivisionError: \n",
    "        print(\"Can't divide by zero\")\n",
    "\n",
    "    # Under utveckling (av kod), så är det lite riskfyllt att \n",
    "    # använda except Exception, vi vill gärna hitta errorsen\n",
    "    # Med notationen nedan, så fångar vi errors som variabeln err,\n",
    "    # som vi sedan kan undersöka vidare\n",
    "    except Exception as err:\n",
    "        print(\"something else went wrong\")\n",
    "        print(err)\n",
    "   \n",
    "   # Else körs om try lyckas, den kan vi använda\n",
    "   # om vi vill garantera att alla rader i try \n",
    "   # har körts utan error\n",
    "    else:\n",
    "        print(\"The try statement succeeded\")\n",
    "        break\n",
    "    finally: \n",
    "        tries += 1\n",
    "        print(f\"Tries remaining {5 - tries}\")"
   ]
  }
 ],
 "metadata": {
  "kernelspec": {
   "display_name": "Python 3",
   "language": "python",
   "name": "python3"
  },
  "language_info": {
   "codemirror_mode": {
    "name": "ipython",
    "version": 3
   },
   "file_extension": ".py",
   "mimetype": "text/x-python",
   "name": "python",
   "nbconvert_exporter": "python",
   "pygments_lexer": "ipython3",
   "version": "3.12.8"
  }
 },
 "nbformat": 4,
 "nbformat_minor": 5
}
