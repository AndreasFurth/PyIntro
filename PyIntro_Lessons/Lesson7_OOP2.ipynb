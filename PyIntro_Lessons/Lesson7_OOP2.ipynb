{
 "cells": [
  {
   "cell_type": "markdown",
   "id": "7d82c453",
   "metadata": {},
   "source": [
    "Inheritance\n",
    "===\n",
    "Child inherits from parent"
   ]
  },
  {
   "cell_type": "code",
   "execution_count": null,
   "id": "2a705d19",
   "metadata": {},
   "outputs": [
    {
     "name": "stdout",
     "output_type": "stream",
     "text": [
      "Woof!\n",
      "The dog is 0 years old\n",
      "The dog's favorite food is Bone\n",
      "Bird's favorite food is Seeds, age is 0\n",
      "Chirp!\n",
      "Bird has 2 wings\n"
     ]
    }
   ],
   "source": [
    "class Animal:              # parent class\n",
    "    age = 0\n",
    "    favorite_food = \"Something\"\n",
    "    def speak(self):\n",
    "        print(\"Some animal sound\")\n",
    "\n",
    "class Dog(Animal):         # child class inherits Animal\n",
    "    favorite_food = \"Bone\"\n",
    "    def speak(self):       # override\n",
    "        print(\"Woof!\")\n",
    "\n",
    "class Bird(Animal):\n",
    "    favorite_food = \"Seeds\"\n",
    "    amount_wings = 2\n",
    "    def speak(self):\n",
    "        print(\"Cirp!\")\n",
    "\n",
    "dog = Dog()h\n",
    "dog.speak()  # ➜ Woof!\n",
    "print(f\"The dog is {dog.age} years old\")\n",
    "\n",
    "print(f\"The dog's favorite food is {dog.favorite_food}\")\n",
    "\n",
    "bird = Bird()\n",
    "print(f\"Bird's favorite food is {bird.favorite_food}, age is {bird.age}\")\n",
    "bird.speak()\n",
    "\n",
    "print(f\"Bird has {bird.amount_wings} wings\")"
   ]
  },
  {
   "cell_type": "markdown",
   "id": "058a254a",
   "metadata": {},
   "source": [
    "Polymorphism\n",
    "=== \n",
    "**Same interface, different behaviour**\n",
    "\n",
    "In python this is not particularly interesting, it just works as you would expect"
   ]
  },
  {
   "cell_type": "code",
   "execution_count": 18,
   "id": "6ed60ea6",
   "metadata": {},
   "outputs": [],
   "source": [
    "class Cat:\n",
    "    def noise(self):\n",
    "        print(\"Mjau!\")\n",
    "\n",
    "class Fish:\n",
    "    def noise(self):\n",
    "        print(\"Blubb!\")\n",
    "\n",
    "class Fox:\n",
    "    def noise(self):\n",
    "        x = 12 + 13\n",
    "        print(\"Popopopopopow\", x)\n",
    "\n",
    "animals = [Cat(), Fish(), Fox()]  # each has speak()\n",
    "\n",
    "for a in animals:\n",
    "    a.noise()   # runs the appropriate version for each animal"
   ]
  },
  {
   "cell_type": "markdown",
   "id": "82dbcf8f",
   "metadata": {},
   "source": [
    "Encapsulation\n",
    "===\n",
    "**Hide internal details; expose only what's necessary**"
   ]
  },
  {
   "cell_type": "code",
   "execution_count": 19,
   "id": "29b8418e",
   "metadata": {},
   "outputs": [],
   "source": [
    "class BankAccount:\n",
    "    def __init__(self, balance):\n",
    "        self.__balance = balance   # double underscore = name-mangled (pseudo-private)\n",
    "\n",
    "    def deposit(self, amount):\n",
    "        self.__balance += amount\n",
    "\n",
    "    def get_balance(self):\n",
    "        return self.__balance"
   ]
  },
  {
   "cell_type": "code",
   "execution_count": 26,
   "metadata": {},
   "outputs": [
    {
     "name": "stdout",
     "output_type": "stream",
     "text": [
      "Account1's balance is: 8000\n",
      "Account1's balance is: 8400\n"
     ]
    }
   ],
   "source": [
    "account1 = BankAccount(8000)\n",
    "\n",
    "print(f\"Account1's balance is: {account1.get_balance()}\")\n",
    "\n",
    "account1.deposit(400)\n",
    "\n",
    "print(f\"Account1's balance is: {account1.get_balance()}\")\n"
   ]
  },
  {
   "cell_type": "markdown",
   "id": "18a6779c",
   "metadata": {},
   "source": [
    "Abstraction \n",
    "===\n",
    "Define a blueprint, without implementation details."
   ]
  },
  {
   "cell_type": "code",
   "execution_count": 30,
   "id": "955b3a4b",
   "metadata": {},
   "outputs": [
    {
     "name": "stdout",
     "output_type": "stream",
     "text": [
      "Woof!\n"
     ]
    }
   ],
   "source": [
    "# import abc\n",
    "from abc import ABC, abstractmethod\n",
    "\n",
    "class Animal:             # parent class\n",
    "    # abstractmethod is a method that must be implemented in child classes\n",
    "    # we use it when each child needs a specific method implemented\n",
    "    # but they're all different\n",
    "    @abstractmethod\n",
    "    def speak(self):\n",
    "        pass\n",
    "\n",
    "class Dog(Animal):         # child class inherits Animal\n",
    "    def speak(self):       # override\n",
    "        print(\"Woof!\")\n",
    "\n",
    "class Cat(Animal):\n",
    "    name = \"Tiger\"\n",
    "\n",
    "dog = Dog()\n",
    "dog.speak()  # ➜ Woof!\n",
    "\n",
    "cat1 = Cat()\n",
    "cat1.speak()"
   ]
  },
  {
   "cell_type": "markdown",
   "id": "f7a65a7c",
   "metadata": {},
   "source": [
    "Multi-level inheritance \n",
    "==="
   ]
  },
  {
   "cell_type": "code",
   "execution_count": 48,
   "id": "36fcc165",
   "metadata": {},
   "outputs": [
    {
     "name": "stdout",
     "output_type": "stream",
     "text": [
      "My hobby is games\n",
      "My hobby is games\n",
      "My hobby is resting\n",
      "My hobby is resting\n",
      "I like crosswords and drinking juice\n"
     ]
    }
   ],
   "source": [
    "# Classes can inherit in as many levels as we want\n",
    "\n",
    "class Grandparent:\n",
    "    age = 60\n",
    "    height = 170\n",
    "    weight = 70\n",
    "    speed = 20\n",
    "    def greet(self):\n",
    "        print(\"Hejsvejs\")\n",
    "    def ask_about_hobby(self):\n",
    "        print(\"I like crosswords and drinking juice\")\n",
    "    def time_to_school(self):\n",
    "        time = (10/self.speed)*60\n",
    "        print(f\"It took me {time} minutes to get to school\")\n",
    "\n",
    "class Parent(Grandparent):\n",
    "    age = 35\n",
    "    def ask_about_hobby(self):\n",
    "        print(\"My hobby is resting\")\n",
    "\n",
    "class Child(Parent):\n",
    "    age = 7\n",
    "    # Here in hobby() we overwrite the parents hobby\n",
    "    def ask_about_hobby(self):\n",
    "        print(\"My hobby is games\")\n",
    "    def favorite_color(self):\n",
    "        print(\"My favorite color is purple\")\n",
    "\n",
    "# .mro()-method just shows what classes the object inherits from\n",
    "# This is just for illustrative purposes, nothing to know or remember\n",
    "# print(Child.mro())\n",
    "\n",
    "# c = Child()\n",
    "# c.greet()        # Hejsvejs, child will use Grandparents greeting\n",
    "# c.hobby()        # My hobby is games, we will use the method from the child\n",
    "\n",
    "# granny = Grandparent()\n",
    "# parent1 = Parent()\n",
    "# parent1.greet()\n",
    "# parent1.hobby()\n",
    "\n",
    "\n",
    "# # Some testing\n",
    "\n",
    "# c.time_to_school()\n",
    "\n",
    "child1 = Child()\n",
    "child2 = Child()\n",
    "\n",
    "family = [Child(), Child(), Parent(), Parent(), Grandparent()]\n",
    "\n",
    "for x in family:\n",
    "    x.ask_about_hobby()"
   ]
  },
  {
   "cell_type": "markdown",
   "id": "2c08356b",
   "metadata": {},
   "source": [
    "Super()\n",
    "===\n",
    "Can climb the hierarchy"
   ]
  },
  {
   "cell_type": "code",
   "execution_count": 51,
   "id": "86a9be27",
   "metadata": {},
   "outputs": [
    {
     "name": "stdout",
     "output_type": "stream",
     "text": [
      "Ava 10\n"
     ]
    }
   ],
   "source": [
    "class Parent:\n",
    "    def __init__(self, name):\n",
    "        self.name = name\n",
    "\n",
    "parent1 = Parent(\"Tård\")\n",
    "\n",
    "class Child(Parent):\n",
    "    def __init__(self, name, age):\n",
    "        # The difference between the two below lines are:\n",
    "        # The first one uses the parent __init__ - method \n",
    "        # To create a new object, the latter defines it \n",
    "        # By itself\n",
    "        super().__init__(name)  # calls Parent.__init__(self, name)\n",
    "        # self.name = name\n",
    "        self.age = age\n",
    "\n",
    "c = Child(\"Ava\", 10)\n",
    "print(c.name, c.age)   # → Ava 10"
   ]
  },
  {
   "cell_type": "code",
   "execution_count": 59,
   "id": "8cc530d2",
   "metadata": {},
   "outputs": [
    {
     "name": "stdout",
     "output_type": "stream",
     "text": [
      "A init\n",
      "B init\n",
      "C init\n",
      "Jonte\n"
     ]
    }
   ],
   "source": [
    "class A:\n",
    "    def __init__(self, name):\n",
    "        self.name = name\n",
    "        print(\"A init\")\n",
    "\n",
    "# a1 = A()\n",
    "\n",
    "class B(A):\n",
    "    def __init__(self,name ):\n",
    "        super().__init__(name)   # goes to A\n",
    "        print(\"B init\")\n",
    "\n",
    "# b1 = B()\n",
    "\n",
    "class C(B):\n",
    "    def __init__(self, name):\n",
    "        super().__init__(name)   # goes to B, which calls A\n",
    "        print(\"C init\")\n",
    "\n",
    "c1 = C(\"Jonte\")\n",
    "\n",
    "print(c1.name)\n"
   ]
  }
 ],
 "metadata": {
  "kernelspec": {
   "display_name": "Python 3",
   "language": "python",
   "name": "python3"
  },
  "language_info": {
   "codemirror_mode": {
    "name": "ipython",
    "version": 3
   },
   "file_extension": ".py",
   "mimetype": "text/x-python",
   "name": "python",
   "nbconvert_exporter": "python",
   "pygments_lexer": "ipython3",
   "version": "3.12.8"
  }
 },
 "nbformat": 4,
 "nbformat_minor": 5
}
