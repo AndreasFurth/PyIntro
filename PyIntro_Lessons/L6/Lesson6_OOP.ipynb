{
 "cells": [
  {
   "cell_type": "markdown",
   "id": "48f28e12",
   "metadata": {},
   "source": [
    "Classes\n",
    "==="
   ]
  },
  {
   "cell_type": "code",
   "execution_count": 2,
   "metadata": {},
   "outputs": [],
   "source": [
    "# Let's create our first Class\n",
    "# This first class would create an object Person\n",
    "# which doesn't have any traits.\n",
    "\n",
    "class Person:\n",
    "    # our traits for the class\n",
    "    pass"
   ]
  },
  {
   "cell_type": "code",
   "execution_count": null,
   "metadata": {},
   "outputs": [],
   "source": [
    "# keyword \"pass\" is something we can use while prototyping\n",
    "# It allows functions, classes etc to run, and be accesible \n",
    "# without us having implemented it\n",
    "# We typically use it when we're going to implement a function/class\n",
    "# later, generally together with a TODO comment\n",
    "\n",
    "def foo():\n",
    "    pass\n",
    "\n",
    "foo()\n",
    "\n",
    "def addition():\n",
    "    pass #TODO: Implement later \n",
    "\n",
    "def subtraction():\n",
    "    pass"
   ]
  },
  {
   "cell_type": "code",
   "execution_count": null,
   "metadata": {},
   "outputs": [
    {
     "name": "stdout",
     "output_type": "stream",
     "text": [
      "<__main__.Person object at 0x10604d220>\n"
     ]
    }
   ],
   "source": [
    "# Let's create an object from our class\n",
    "# We can create any number of objects\n",
    "\n",
    "tom = Person()\n",
    "print(tom)"
   ]
  },
  {
   "cell_type": "code",
   "execution_count": 16,
   "metadata": {},
   "outputs": [],
   "source": [
    "# Let's now rewrite our Person class,\n",
    "# and give it a few traits\n",
    "\n",
    "class Person:\n",
    "    age = 0\n",
    "    name = \"unnamed\""
   ]
  },
  {
   "cell_type": "code",
   "execution_count": null,
   "id": "511e1222",
   "metadata": {},
   "outputs": [],
   "source": [
    "# Let's create an example object, paul\n",
    "# Paul has a name and an age \n",
    "# When we first create the object, it has \n",
    "# the values of the traits we created in the class\n",
    "paul = Person()\n",
    "paul.age = 3\n",
    "paul.name = \"Paul\"\n",
    "\n",
    "print(\"Paul's name is\", paul.name)\n",
    "print(\"Paul's age is: \", paul.age)\n",
    "\n",
    "person2 = Person()\n",
    "print(\"Person2s namn är: \", person2.name)\n",
    "print(\"Person2's age is: \", person2.age)\n",
    "\n"
   ]
  },
  {
   "cell_type": "code",
   "execution_count": null,
   "metadata": {},
   "outputs": [
    {
     "ename": "AttributeError",
     "evalue": "'Person' object has no attribute 'height'",
     "output_type": "error",
     "traceback": [
      "\u001b[31m---------------------------------------------------------------------------\u001b[39m",
      "\u001b[31mAttributeError\u001b[39m                            Traceback (most recent call last)",
      "\u001b[36mCell\u001b[39m\u001b[36m \u001b[39m\u001b[32mIn[20]\u001b[39m\u001b[32m, line 1\u001b[39m\n\u001b[32m----> \u001b[39m\u001b[32m1\u001b[39m \u001b[43mperson2\u001b[49m\u001b[43m.\u001b[49m\u001b[43mheight\u001b[49m\n",
      "\u001b[31mAttributeError\u001b[39m: 'Person' object has no attribute 'height'"
     ]
    }
   ],
   "source": [
    "# our objects have the traits that we define,\n",
    "# if we try to access a trait that doesn't exist\n",
    "# We get an error\n",
    "\n",
    "person2.height"
   ]
  },
  {
   "cell_type": "code",
   "execution_count": 28,
   "metadata": {},
   "outputs": [
    {
     "name": "stdout",
     "output_type": "stream",
     "text": [
      "[<__main__.Person object at 0x10604ffb0>, <__main__.Person object at 0x10604f4a0>]\n",
      "The person Paul is now 8 years old, Congratulations!\n",
      "The person unnamed is now 5 years old, Congratulations!\n"
     ]
    }
   ],
   "source": [
    "# The object are datastructures/types similar to others,\n",
    "# so we can put them in lists/dictionaries, use in functions etc\n",
    "\n",
    "personList = [paul,person2]\n",
    "print(personList)\n",
    "\n",
    "# We can iterate and access over a list containing our objects\n",
    "# in a very similar way to in our previous loops\n",
    "for person in personList:\n",
    "    person.age +=1\n",
    "    print(f\"The person {person.name} is now {person.age} years old, Congratulations!\")"
   ]
  },
  {
   "cell_type": "code",
   "execution_count": null,
   "metadata": {},
   "outputs": [],
   "source": [
    "# Our classes can also have methods\n",
    "# We've already seen examples of methods\n",
    "# .append(), .get(), keys() and others\n",
    "\n",
    "class Room:\n",
    "    name = \" \"\n",
    "    length = 0\n",
    "    width = 0\n",
    "\n",
    "    # Let's create a method to calculate square footage (m^2)\n",
    "    def calc_area(self):\n",
    "        area = self.length*self.width\n",
    "        return area\n"
   ]
  },
  {
   "cell_type": "code",
   "execution_count": null,
   "metadata": {},
   "outputs": [],
   "source": [
    "# Create an example room kitchen with some length and width\n",
    "\n",
    "room1 = Room()\n",
    "room1.name = \"kitchen\"\n",
    "room1.length = 6\n",
    "room1.width = 7"
   ]
  },
  {
   "cell_type": "code",
   "execution_count": null,
   "metadata": {},
   "outputs": [
    {
     "name": "stdout",
     "output_type": "stream",
     "text": [
      "6\n"
     ]
    }
   ],
   "source": [
    "# After creating the room1 object, we can see\n",
    "# that the traits are saved (in this case the length)\n",
    "print(room1.length)"
   ]
  },
  {
   "cell_type": "code",
   "execution_count": 35,
   "metadata": {},
   "outputs": [],
   "source": [
    "# Let's call our method calc_area\n",
    "# RESULT: We got the area: room1's lengths times room1's width\n",
    "\n",
    "area = room1.calc_area()"
   ]
  },
  {
   "cell_type": "code",
   "execution_count": 36,
   "metadata": {},
   "outputs": [
    {
     "data": {
      "text/plain": [
       "42"
      ]
     },
     "execution_count": 36,
     "metadata": {},
     "output_type": "execute_result"
    }
   ],
   "source": [
    "area"
   ]
  },
  {
   "cell_type": "code",
   "execution_count": null,
   "id": "519f5603",
   "metadata": {},
   "outputs": [],
   "source": [
    "# In general, objects usually want to be defined \n",
    "# with some starting values, not a general default\n",
    "# we can make sure to initialize objects with traits \n",
    "# defined in the creation of the object using __init__\n",
    "\n",
    "# The __init__ method runs as we create the object.\n",
    "# We usually put whatever parameters we NEED for the \n",
    "# object to make sense there. The object gets the \n",
    "# values of the inputted parameters\n",
    "class Car:\n",
    "    # IF we have values that we want to remember across\n",
    "    # Objects objects of the same kind, we can use class attributes\n",
    "    counter = 0\n",
    "\n",
    "    # For any function (def) we can set parameters as default values\n",
    "    def __init__(self, name, length, width, color = \"grey\"):\n",
    "        self.name = name\n",
    "        self.length = length\n",
    "        self.width = width\n",
    "        self.color = color\n",
    "        Car.counter += 1\n",
    "\n",
    "    # Let's create a method to calculate square footage (m^2)\n",
    "    def calc_area(self):\n",
    "        area = self.length*self.width\n",
    "        return area"
   ]
  },
  {
   "cell_type": "code",
   "execution_count": 87,
   "id": "ec603763",
   "metadata": {},
   "outputs": [
    {
     "name": "stdout",
     "output_type": "stream",
     "text": [
      "citroen\n",
      "Car1's color is:  grey\n"
     ]
    }
   ],
   "source": [
    "# How to create a new object Car?\n",
    "\n",
    "# Below will fail, __init__ always runs\n",
    "# In our case we need 3 arguments (name,length,width)\n",
    "# car1 = Car()\n",
    "\n",
    "car1 = Car(\"volkswagen\", 3, 4)\n",
    "car1.calc_area()\n",
    "\n",
    "car2 = Car(\"volvo\", 4,1)\n",
    "car2.calc_area()\n",
    "\n",
    "# __init__ only changes the creation of our object\n",
    "# The further use is the same\n",
    "\n",
    "car1.name = \"citroen\"\n",
    "print(car1.name)\n",
    "\n",
    "print(\"Car1's color is: \", car1.color)"
   ]
  },
  {
   "cell_type": "code",
   "execution_count": null,
   "id": "4fe49706",
   "metadata": {},
   "outputs": [
    {
     "name": "stdout",
     "output_type": "stream",
     "text": [
      "toyota\n",
      "Amount of cars created (Car.counter) is:  1\n"
     ]
    }
   ],
   "source": [
    "# Let's explore the class attribute\n",
    "\n",
    "car3 = Car(\"toyota\", 3, 3)\n",
    "print(car3.name)"
   ]
  },
  {
   "cell_type": "code",
   "execution_count": 88,
   "metadata": {},
   "outputs": [
    {
     "name": "stdout",
     "output_type": "stream",
     "text": [
      "Amount of cars created (Car.counter) is:  65\n"
     ]
    }
   ],
   "source": [
    "# We can access the class attribute with Class.attribute\n",
    "\n",
    "print(\"Amount of cars created (Car.counter) is: \", Car.counter)"
   ]
  },
  {
   "cell_type": "code",
   "execution_count": 95,
   "metadata": {},
   "outputs": [],
   "source": [
    "class Car:\n",
    "    name = \" \"\n",
    "    color = \" \"\n",
    "    brand = \"volvo\"\n"
   ]
  },
  {
   "cell_type": "code",
   "execution_count": null,
   "metadata": {},
   "outputs": [
    {
     "name": "stdout",
     "output_type": "stream",
     "text": [
      " \n",
      "majs\n",
      "grul\n",
      "volvo\n"
     ]
    }
   ],
   "source": [
    "car1 = Car()\n",
    "\n",
    "print(car1.name)\n",
    "\n",
    "car1.name = \"majs\"\n",
    "\n",
    "print(car1.name)\n",
    "\n",
    "car1.color = \"grul\"\n",
    "print(car1.color)\n",
    "\n",
    "print(car1.brand)\n",
    "\n",
    "car2 = Car()\n",
    "car2.name = \"löken\"\n",
    "car2.color = \"brun\"\n"
   ]
  },
  {
   "cell_type": "code",
   "execution_count": null,
   "metadata": {},
   "outputs": [],
   "source": [
    "class Bil:\n",
    "    def __init__(self,inputName, inputColor, inputBrand = \"volvo\"):\n",
    "        self.name = inputName\n",
    "        self.color = inputColor\n",
    "        self.brand = inputBrand"
   ]
  },
  {
   "cell_type": "code",
   "execution_count": 103,
   "metadata": {},
   "outputs": [
    {
     "name": "stdout",
     "output_type": "stream",
     "text": [
      "volvo\n"
     ]
    }
   ],
   "source": [
    "newCar = Bil(\"gröt\", \"Blå\")\n",
    "\n",
    "print(newCar.brand)"
   ]
  },
  {
   "cell_type": "code",
   "execution_count": null,
   "metadata": {},
   "outputs": [],
   "source": [
    "class Character:\n",
    "    faction = \"Terrorist\"\n",
    "    loadout = [\"AK47\", \"Dessert Eagle\"]\n",
    "    "
   ]
  }
 ],
 "metadata": {
  "kernelspec": {
   "display_name": "Python 3",
   "language": "python",
   "name": "python3"
  },
  "language_info": {
   "codemirror_mode": {
    "name": "ipython",
    "version": 3
   },
   "file_extension": ".py",
   "mimetype": "text/x-python",
   "name": "python",
   "nbconvert_exporter": "python",
   "pygments_lexer": "ipython3",
   "version": "3.12.8"
  }
 },
 "nbformat": 4,
 "nbformat_minor": 5
}
