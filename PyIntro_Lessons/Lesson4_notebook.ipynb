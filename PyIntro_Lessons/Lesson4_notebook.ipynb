{
 "cells": [
  {
   "cell_type": "markdown",
   "id": "8abcac67",
   "metadata": {},
   "source": [
    "**Functions and Dictionaries**"
   ]
  },
  {
   "cell_type": "code",
   "execution_count": 40,
   "metadata": {},
   "outputs": [],
   "source": [
    "# När vi definerar en funktion så använder vi def\n",
    "# Funktionen kommer att skapas, och vi kan senare \n",
    "# kalla på den (köra programmet)\n",
    "\n",
    "def foo():\n",
    "    print(\"Vår funktion\")"
   ]
  },
  {
   "cell_type": "code",
   "execution_count": 41,
   "metadata": {},
   "outputs": [
    {
     "name": "stdout",
     "output_type": "stream",
     "text": [
      "Vår funktion\n"
     ]
    }
   ],
   "source": [
    "# Om vi vill kalla på en funktion, så skriver vi \n",
    "# Ut dess namn, med alla parametrar inom parentes.\n",
    "# OM FUNKTIONEN INTE BEHÖVER PARAMETRAR: är parenteserna tomma\n",
    "\n",
    "foo()"
   ]
  },
  {
   "cell_type": "markdown",
   "metadata": {},
   "source": [
    "**Parametrized Functions**"
   ]
  },
  {
   "cell_type": "code",
   "execution_count": 42,
   "id": "9b9111ed",
   "metadata": {},
   "outputs": [],
   "source": [
    "# I regel så vill vi kunna skicka in olika värden till en funktion,\n",
    "# ,som funktionen kan använda för att räkna ut något annat\n",
    "# Detta gör vi med parametrar, alltså inputvärden\n",
    "\n",
    "def kvadrat(x):\n",
    "    y = x*x\n",
    "\n",
    "    # Return skickar med ett svar när funktion kallas\n",
    "    # Vi måste sedan fånga värdet från return\n",
    "    # när vi kör funktionen\n",
    "    return y"
   ]
  },
  {
   "cell_type": "code",
   "execution_count": 43,
   "id": "a016dc86",
   "metadata": {},
   "outputs": [],
   "source": [
    "# Om vi vill kalla på vår parameteriserade funktion,\n",
    "#,så lägger vi in parametrar i parantesen när funktionen ska köras\n",
    "#En körning av en parametriserad funktion där vi inte skickar in\n",
    "#någon parameter leder till error\n",
    "# kvadrat()\n",
    "\n",
    "#För att köra funktionen skickar vi alltså med en parameter\n",
    "kvadrat(4)\n",
    "\n",
    "# För att fånga ett värde från en funktion, så använder vi en variabel\n",
    "# Det värde vi fångar är värdet från return i funktionen\n",
    "# Fånga = sätta ett namn på den data som skickas från return\n",
    "out = kvadrat(7)"
   ]
  },
  {
   "cell_type": "code",
   "execution_count": 44,
   "id": "ed5791b3",
   "metadata": {},
   "outputs": [],
   "source": [
    "#Extragrej\n",
    "\n",
    "a = 3\n"
   ]
  },
  {
   "cell_type": "code",
   "execution_count": 45,
   "id": "e3690ead",
   "metadata": {},
   "outputs": [
    {
     "name": "stdout",
     "output_type": "stream",
     "text": [
      "9\n"
     ]
    }
   ],
   "source": [
    "#Extragrej forts.\n",
    "\n",
    "a = kvadrat(a)\n",
    "print(a)"
   ]
  },
  {
   "cell_type": "markdown",
   "metadata": {},
   "source": [
    "**More than one parameter + default values**"
   ]
  },
  {
   "cell_type": "code",
   "execution_count": 46,
   "metadata": {},
   "outputs": [],
   "source": [
    "def volume(height,width,depth):\n",
    "    volume = height* width * depth\n",
    "    return volume"
   ]
  },
  {
   "cell_type": "code",
   "execution_count": 47,
   "metadata": {},
   "outputs": [],
   "source": [
    "# Vi kan lägga till hur många parametrar som helst\n",
    "# Vi kan fördefinera värden på parametrar, som \n",
    "# användaren kan använda eller ändra\n",
    "\n",
    "def time_to_destination(distance, speed = 100, view = \"Regnig kass skog\", car_weight = 1000):\n",
    "    time = distance / speed\n",
    "    return time"
   ]
  },
  {
   "cell_type": "code",
   "execution_count": 48,
   "id": "05d70881",
   "metadata": {},
   "outputs": [
    {
     "data": {
      "text/plain": [
       "27.2"
      ]
     },
     "execution_count": 48,
     "metadata": {},
     "output_type": "execute_result"
    }
   ],
   "source": [
    "time * 60"
   ]
  },
  {
   "cell_type": "markdown",
   "metadata": {},
   "source": [
    "**Dictionaries**"
   ]
  },
  {
   "cell_type": "code",
   "execution_count": 49,
   "id": "f9a7250c",
   "metadata": {},
   "outputs": [],
   "source": [
    "capitals = {\"Sweden\": \"Stockholm\", \n",
    "            \"Turkey\": \"Ankara\", \n",
    "            \"Finland\": \"Helsinki\",\n",
    "            \"UK\": \"London\"}"
   ]
  },
  {
   "cell_type": "code",
   "execution_count": 50,
   "metadata": {},
   "outputs": [
    {
     "data": {
      "text/plain": [
       "{'Sweden': 'Stockholm',\n",
       " 'Turkey': 'Ankara',\n",
       " 'Finland': 'Helsinki',\n",
       " 'UK': 'London'}"
      ]
     },
     "execution_count": 50,
     "metadata": {},
     "output_type": "execute_result"
    }
   ],
   "source": [
    "capitals"
   ]
  },
  {
   "cell_type": "code",
   "execution_count": 51,
   "id": "7b2aa1ad",
   "metadata": {},
   "outputs": [
    {
     "data": {
      "text/plain": [
       "'Stockholm'"
      ]
     },
     "execution_count": 51,
     "metadata": {},
     "output_type": "execute_result"
    }
   ],
   "source": [
    "# Med listor skriver vi typiskt example_list[i] \n",
    "# för att hitta element på plats i (index i)\n",
    "\n",
    "# Nedan ger keyError 0\n",
    "# capitals[0]\n",
    "\n",
    "capitals[\"Sweden\"]"
   ]
  },
  {
   "cell_type": "code",
   "execution_count": 52,
   "metadata": {},
   "outputs": [
    {
     "data": {
      "text/plain": [
       "'Stockholm'"
      ]
     },
     "execution_count": 52,
     "metadata": {},
     "output_type": "execute_result"
    }
   ],
   "source": [
    "# Skillnad på capitals[\"Sweden\"] och capitals.get(\"Sweden\")\n",
    "# Är att om vi skickar in en ogiltig nyckel i get så får vi inget error\n",
    "\n",
    "capitals.get(\"Sweden\")"
   ]
  },
  {
   "cell_type": "code",
   "execution_count": 53,
   "metadata": {},
   "outputs": [
    {
     "name": "stdout",
     "output_type": "stream",
     "text": [
      "None\n"
     ]
    }
   ],
   "source": [
    "# Vad händer i capitals[key] om vi skickar in ogiltig key\n",
    "\n",
    "# capitals[\"US\"]\n",
    "value =capitals.get(\"US\")\n",
    "print(value)"
   ]
  },
  {
   "cell_type": "code",
   "execution_count": 54,
   "id": "6a5346a6",
   "metadata": {},
   "outputs": [
    {
     "name": "stdout",
     "output_type": "stream",
     "text": [
      "Sweden\n",
      "Turkey\n",
      "Finland\n",
      "UK\n",
      "Stockholm\n",
      "Ankara\n",
      "Helsinki\n",
      "London\n"
     ]
    }
   ],
   "source": [
    "# Hur vi loopar vi över dictionaries?\n",
    "\n",
    "# På det här sättet kan vi hitta våra keys\n",
    "for capital in capitals:\n",
    "    print(capital)\n",
    "\n",
    "\n",
    "#Om vi istället vill hitta våra values\n",
    "for capital in capitals:\n",
    "    print(capitals[capital])\n"
   ]
  },
  {
   "cell_type": "code",
   "execution_count": 58,
   "metadata": {},
   "outputs": [
    {
     "name": "stdout",
     "output_type": "stream",
     "text": [
      "Sweden\n",
      "Turkey\n",
      "Finland\n",
      "UK\n"
     ]
    }
   ],
   "source": [
    "# Med keys()-metoden kan vi hitta alla keys i en dictionary\n",
    "\n",
    "capitals.keys()\n",
    "\n",
    "# Det är en typ en lista som vi får från dictorionary.keys(),\n",
    "# Alltså kan vi loopa över den\n",
    "\n",
    "for capital in capitals.keys():\n",
    "    print(capital)"
   ]
  },
  {
   "cell_type": "code",
   "execution_count": null,
   "metadata": {},
   "outputs": [],
   "source": [
    "#Med values()-metoden kan vi hitta alla values i en dict\n",
    "\n",
    "capitals.values()\n",
    "\n",
    "#Vi får ett listlikande objekt tillbaka, det kan vi loopa över\n",
    "\n",
    "for capital in capitals.values():\n",
    "    print(capital)"
   ]
  },
  {
   "cell_type": "code",
   "execution_count": 66,
   "metadata": {},
   "outputs": [
    {
     "name": "stdout",
     "output_type": "stream",
     "text": [
      "('Sweden', 'Stockholm')\n",
      "('Turkey', 'Ankara')\n",
      "('Finland', 'Helsinki')\n",
      "('UK', 'London')\n",
      "Huvudstaden i Sweden är Stockholm\n",
      "Huvudstaden i Turkey är Ankara\n",
      "Huvudstaden i Finland är Helsinki\n",
      "Huvudstaden i UK är London\n"
     ]
    }
   ],
   "source": [
    "# Med items()- metoden kan vi hitta både keys och values\n",
    "\n",
    "capitals.items()\n",
    "\n",
    "# Vi fick med items() en skum lista, med separata värden inom parentes\n",
    "# Denna listan kan vi också loopa över. Den variabel som vi skapar\n",
    "# nedan har både värdet från vår key + värdet från vår value, \n",
    "# ihopsatt såhär (key, value)\n",
    "for i in capitals.items():\n",
    "    print(i)\n",
    "\n",
    "# Vi kan alltså definera två variabler när vi skapar vår loop,\n",
    "# De finns båda två i varje varv.\n",
    "for key, value in capitals.items():\n",
    "    print(f\"Huvudstaden i {key} är {value}\")\n"
   ]
  },
  {
   "cell_type": "code",
   "execution_count": 67,
   "metadata": {},
   "outputs": [
    {
     "data": {
      "text/plain": [
       "dict_items([('Sweden', 'Stockholm'), ('Turkey', 'Ankara'), ('Finland', 'Helsinki'), ('UK', 'London')])"
      ]
     },
     "execution_count": 67,
     "metadata": {},
     "output_type": "execute_result"
    }
   ],
   "source": [
    "capitals.items()"
   ]
  },
  {
   "cell_type": "code",
   "execution_count": null,
   "metadata": {},
   "outputs": [],
   "source": [
    "# Vi kan definera flera variabler på en gång\n",
    "# Det kan vi även göra när vi skapar loopar\n",
    "a, b = 7,\"göran\""
   ]
  }
 ],
 "metadata": {
  "kernelspec": {
   "display_name": "Python 3",
   "language": "python",
   "name": "python3"
  },
  "language_info": {
   "codemirror_mode": {
    "name": "ipython",
    "version": 3
   },
   "file_extension": ".py",
   "mimetype": "text/x-python",
   "name": "python",
   "nbconvert_exporter": "python",
   "pygments_lexer": "ipython3",
   "version": "3.12.8"
  }
 },
 "nbformat": 4,
 "nbformat_minor": 5
}
