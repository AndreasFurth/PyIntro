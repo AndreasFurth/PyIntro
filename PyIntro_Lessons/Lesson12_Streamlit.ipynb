{
 "cells": [
  {
   "cell_type": "markdown",
   "id": "d59edc80",
   "metadata": {},
   "source": [
    "Streamlit\n",
    "---"
   ]
  },
  {
   "cell_type": "code",
   "execution_count": 1,
   "metadata": {},
   "outputs": [
    {
     "name": "stdout",
     "output_type": "stream",
     "text": [
      "Requirement already satisfied: pip in ./venv/lib/python3.9/site-packages (25.2)\n"
     ]
    }
   ],
   "source": [
    "import sys\n",
    "!{sys.executable} -m pip install --upgrade pip"
   ]
  },
  {
   "cell_type": "code",
   "execution_count": 2,
   "id": "cb0015cd",
   "metadata": {},
   "outputs": [
    {
     "name": "stdout",
     "output_type": "stream",
     "text": [
      "Requirement already satisfied: streamlit==1.12.0 in ./venv/lib/python3.9/site-packages (1.12.0)\n",
      "Collecting altair==4.2.2\n",
      "  Using cached altair-4.2.2-py3-none-any.whl.metadata (13 kB)\n",
      "Requirement already satisfied: blinker>=1.0.0 in ./venv/lib/python3.9/site-packages (from streamlit==1.12.0) (1.9.0)\n",
      "Requirement already satisfied: cachetools>=4.0 in ./venv/lib/python3.9/site-packages (from streamlit==1.12.0) (6.2.0)\n",
      "Requirement already satisfied: click>=7.0 in ./venv/lib/python3.9/site-packages (from streamlit==1.12.0) (8.1.8)\n",
      "Requirement already satisfied: importlib-metadata>=1.4 in ./venv/lib/python3.9/site-packages (from streamlit==1.12.0) (8.7.0)\n",
      "Requirement already satisfied: numpy in ./venv/lib/python3.9/site-packages (from streamlit==1.12.0) (2.0.2)\n",
      "Requirement already satisfied: packaging>=14.1 in ./venv/lib/python3.9/site-packages (from streamlit==1.12.0) (25.0)\n",
      "Requirement already satisfied: pandas>=0.21.0 in ./venv/lib/python3.9/site-packages (from streamlit==1.12.0) (2.3.2)\n",
      "Requirement already satisfied: pillow>=6.2.0 in ./venv/lib/python3.9/site-packages (from streamlit==1.12.0) (11.3.0)\n",
      "Requirement already satisfied: protobuf<4,>=3.12 in ./venv/lib/python3.9/site-packages (from streamlit==1.12.0) (3.20.3)\n",
      "Requirement already satisfied: pyarrow>=4.0 in ./venv/lib/python3.9/site-packages (from streamlit==1.12.0) (21.0.0)\n",
      "Requirement already satisfied: pydeck>=0.1.dev5 in ./venv/lib/python3.9/site-packages (from streamlit==1.12.0) (0.9.1)\n",
      "Requirement already satisfied: pympler>=0.9 in ./venv/lib/python3.9/site-packages (from streamlit==1.12.0) (1.1)\n",
      "Requirement already satisfied: python-dateutil in ./venv/lib/python3.9/site-packages (from streamlit==1.12.0) (2.9.0.post0)\n",
      "Requirement already satisfied: requests>=2.4 in ./venv/lib/python3.9/site-packages (from streamlit==1.12.0) (2.32.5)\n",
      "Requirement already satisfied: rich>=10.11.0 in ./venv/lib/python3.9/site-packages (from streamlit==1.12.0) (14.1.0)\n",
      "Requirement already satisfied: semver in ./venv/lib/python3.9/site-packages (from streamlit==1.12.0) (3.0.4)\n",
      "Requirement already satisfied: toml in ./venv/lib/python3.9/site-packages (from streamlit==1.12.0) (0.10.2)\n",
      "Requirement already satisfied: tornado>=5.0 in ./venv/lib/python3.9/site-packages (from streamlit==1.12.0) (6.5.2)\n",
      "Requirement already satisfied: typing-extensions>=3.10.0.0 in ./venv/lib/python3.9/site-packages (from streamlit==1.12.0) (4.15.0)\n",
      "Requirement already satisfied: tzlocal>=1.1 in ./venv/lib/python3.9/site-packages (from streamlit==1.12.0) (5.3.1)\n",
      "Requirement already satisfied: validators>=0.2 in ./venv/lib/python3.9/site-packages (from streamlit==1.12.0) (0.35.0)\n",
      "Requirement already satisfied: gitpython!=3.1.19 in ./venv/lib/python3.9/site-packages (from streamlit==1.12.0) (3.1.45)\n",
      "Collecting entrypoints (from altair==4.2.2)\n",
      "  Using cached entrypoints-0.4-py3-none-any.whl.metadata (2.6 kB)\n",
      "Requirement already satisfied: jinja2 in ./venv/lib/python3.9/site-packages (from altair==4.2.2) (3.1.6)\n",
      "Requirement already satisfied: jsonschema>=3.0 in ./venv/lib/python3.9/site-packages (from altair==4.2.2) (4.25.1)\n",
      "Collecting toolz (from altair==4.2.2)\n",
      "  Using cached toolz-1.0.0-py3-none-any.whl.metadata (5.1 kB)\n",
      "Requirement already satisfied: gitdb<5,>=4.0.1 in ./venv/lib/python3.9/site-packages (from gitpython!=3.1.19->streamlit==1.12.0) (4.0.12)\n",
      "Requirement already satisfied: smmap<6,>=3.0.1 in ./venv/lib/python3.9/site-packages (from gitdb<5,>=4.0.1->gitpython!=3.1.19->streamlit==1.12.0) (5.0.2)\n",
      "Requirement already satisfied: zipp>=3.20 in ./venv/lib/python3.9/site-packages (from importlib-metadata>=1.4->streamlit==1.12.0) (3.23.0)\n",
      "Requirement already satisfied: attrs>=22.2.0 in ./venv/lib/python3.9/site-packages (from jsonschema>=3.0->altair==4.2.2) (25.4.0)\n",
      "Requirement already satisfied: jsonschema-specifications>=2023.03.6 in ./venv/lib/python3.9/site-packages (from jsonschema>=3.0->altair==4.2.2) (2025.9.1)\n",
      "Requirement already satisfied: referencing>=0.28.4 in ./venv/lib/python3.9/site-packages (from jsonschema>=3.0->altair==4.2.2) (0.36.2)\n",
      "Requirement already satisfied: rpds-py>=0.7.1 in ./venv/lib/python3.9/site-packages (from jsonschema>=3.0->altair==4.2.2) (0.27.1)\n",
      "Requirement already satisfied: pytz>=2020.1 in ./venv/lib/python3.9/site-packages (from pandas>=0.21.0->streamlit==1.12.0) (2025.2)\n",
      "Requirement already satisfied: tzdata>=2022.7 in ./venv/lib/python3.9/site-packages (from pandas>=0.21.0->streamlit==1.12.0) (2025.2)\n",
      "Requirement already satisfied: MarkupSafe>=2.0 in ./venv/lib/python3.9/site-packages (from jinja2->altair==4.2.2) (3.0.3)\n",
      "Requirement already satisfied: six>=1.5 in ./venv/lib/python3.9/site-packages (from python-dateutil->streamlit==1.12.0) (1.17.0)\n",
      "Requirement already satisfied: charset_normalizer<4,>=2 in ./venv/lib/python3.9/site-packages (from requests>=2.4->streamlit==1.12.0) (3.4.3)\n",
      "Requirement already satisfied: idna<4,>=2.5 in ./venv/lib/python3.9/site-packages (from requests>=2.4->streamlit==1.12.0) (3.10)\n",
      "Requirement already satisfied: urllib3<3,>=1.21.1 in ./venv/lib/python3.9/site-packages (from requests>=2.4->streamlit==1.12.0) (2.5.0)\n",
      "Requirement already satisfied: certifi>=2017.4.17 in ./venv/lib/python3.9/site-packages (from requests>=2.4->streamlit==1.12.0) (2025.8.3)\n",
      "Requirement already satisfied: markdown-it-py>=2.2.0 in ./venv/lib/python3.9/site-packages (from rich>=10.11.0->streamlit==1.12.0) (3.0.0)\n",
      "Requirement already satisfied: pygments<3.0.0,>=2.13.0 in ./venv/lib/python3.9/site-packages (from rich>=10.11.0->streamlit==1.12.0) (2.19.2)\n",
      "Requirement already satisfied: mdurl~=0.1 in ./venv/lib/python3.9/site-packages (from markdown-it-py>=2.2.0->rich>=10.11.0->streamlit==1.12.0) (0.1.2)\n",
      "Using cached altair-4.2.2-py3-none-any.whl (813 kB)\n",
      "Using cached entrypoints-0.4-py3-none-any.whl (5.3 kB)\n",
      "Using cached toolz-1.0.0-py3-none-any.whl (56 kB)\n",
      "Installing collected packages: toolz, entrypoints, altair\n",
      "\u001b[2K  Attempting uninstall: altair\n",
      "\u001b[2K    Found existing installation: altair 5.5.0\n",
      "\u001b[2K    Uninstalling altair-5.5.0:\n",
      "\u001b[2K      Successfully uninstalled altair-5.5.0\n",
      "\u001b[2K   \u001b[90m━━━━━━━━━━━━━━━━━━━━━━━━━━━━━━━━━━━━━━━━\u001b[0m \u001b[32m3/3\u001b[0m [altair]2m2/3\u001b[0m [altair]\n",
      "\u001b[1A\u001b[2KSuccessfully installed altair-4.2.2 entrypoints-0.4 toolz-1.0.0\n",
      "Note: you may need to restart the kernel to use updated packages.\n"
     ]
    }
   ],
   "source": [
    "# Install compatible versions of Streamlit and Altair\n",
    "%pip install streamlit==1.12.0 altair==4.2.2"
   ]
  },
  {
   "cell_type": "code",
   "execution_count": 3,
   "id": "1602fac8",
   "metadata": {},
   "outputs": [],
   "source": [
    "# With streamlit we can create web apps with Python.\n",
    "# The syntax is a bit funky, but it is easy to learn.\n",
    "\n",
    "import streamlit as st\n",
    "import pandas as pd\n",
    "import numpy as np"
   ]
  },
  {
   "cell_type": "markdown",
   "id": "79c2248b",
   "metadata": {},
   "source": [
    "## Simple Streamlit Example\n",
    "\n",
    "Let's create a basic web app that demonstrates common Streamlit features:\n"
   ]
  },
  {
   "cell_type": "code",
   "execution_count": 4,
   "id": "8ef9bc2c",
   "metadata": {},
   "outputs": [
    {
     "name": "stderr",
     "output_type": "stream",
     "text": [
      "2025-10-08 09:50:37.718 \n",
      "  \u001b[33m\u001b[1mWarning:\u001b[0m to view this Streamlit app on a browser, run it with the following\n",
      "  command:\n",
      "\n",
      "    streamlit run /Users/andreas/PyIntro-Hub/PyIntro/PyIntro_Lessons/venv/lib/python3.9/site-packages/ipykernel_launcher.py [ARGUMENTS]\n"
     ]
    }
   ],
   "source": [
    "# Simple Streamlit App - Student Example\n",
    "# This creates a basic web app with interactive elements\n",
    "\n",
    "def create_simple_app():\n",
    "    # Set page title\n",
    "    st.title(\"🎓 My First Streamlit App\")\n",
    "    \n",
    "    # Add a header\n",
    "    st.header(\"Welcome to Streamlit!\")\n",
    "    \n",
    "    # Add some text\n",
    "    st.write(\"This is a simple example of what you can do with Streamlit.\")\n",
    "    \n",
    "    # Create a sidebar\n",
    "    st.sidebar.title(\"Controls\")\n",
    "    \n",
    "    # Add a slider\n",
    "    age = st.sidebar.slider(\"Select your age:\", 0, 100, 25)\n",
    "    st.write(f\"You are {age} years old!\")\n",
    "    \n",
    "    # Add a text input\n",
    "    name = st.text_input(\"What's your name?\", \"Student\")\n",
    "    st.write(f\"Hello, {name}! 👋\")\n",
    "    \n",
    "    # Add a selectbox\n",
    "    favorite_color = st.selectbox(\n",
    "        \"What's your favorite color?\",\n",
    "        [\"Red\", \"Blue\", \"Green\", \"Yellow\", \"Purple\"]\n",
    "    )\n",
    "    st.write(f\"Your favorite color is {favorite_color}! 🎨\")\n",
    "    \n",
    "    # Add a checkbox\n",
    "    if st.checkbox(\"Show me a surprise!\"):\n",
    "        st.balloons()  # This creates a fun balloon animation!\n",
    "    \n",
    "    # Add a button\n",
    "    if st.button(\"Click me!\"):\n",
    "        st.success(\"Button clicked! 🎉\")\n",
    "    \n",
    "    # Create some sample data\n",
    "    st.subheader(\"Sample Data\")\n",
    "    data = pd.DataFrame({\n",
    "        'x': np.random.randn(100),\n",
    "        'y': np.random.randn(100)\n",
    "    })\n",
    "    \n",
    "    # Display the data as a table (avoiding chart issues)\n",
    "    st.dataframe(data.head(10))\n",
    "    \n",
    "    # Add some statistics\n",
    "    st.subheader(\"Statistics\")\n",
    "    col1, col2, col3 = st.columns(3)\n",
    "    \n",
    "    with col1:\n",
    "        st.metric(\"Mean X\", f\"{data['x'].mean():.2f}\")\n",
    "    \n",
    "    with col2:\n",
    "        st.metric(\"Mean Y\", f\"{data['y'].mean():.2f}\")\n",
    "    \n",
    "    with col3:\n",
    "        st.metric(\"Data Points\", len(data))\n",
    "    \n",
    "    # Add a download button\n",
    "    csv = data.to_csv(index=False)\n",
    "    st.download_button(\n",
    "        label=\"Download data as CSV\",\n",
    "        data=csv,\n",
    "        file_name='sample_data.csv',\n",
    "        mime='text/csv'\n",
    "    )\n",
    "\n",
    "# Run the app\n",
    "if __name__ == \"__main__\":\n",
    "    create_simple_app()\n"
   ]
  },
  {
   "cell_type": "markdown",
   "id": "535e9054",
   "metadata": {},
   "source": [
    "## How to Run Your Streamlit App\n",
    "\n",
    "To run this Streamlit app, you have two options:\n",
    "\n",
    "### Option 1: Run from the notebook\n",
    "Run the cell above, then in a terminal, navigate to this directory and run:\n",
    "```bash\n",
    "streamlit run Lesson12_Streamlit.ipynb\n",
    "```\n",
    "\n",
    "### Option 2: Create a separate Python file\n",
    "Copy the code above into a new file called `my_app.py` and run:\n",
    "```bash\n",
    "streamlit run my_app.py\n",
    "```\n",
    "\n",
    "The app will open in your web browser at `http://localhost:8501`\n"
   ]
  },
  {
   "cell_type": "markdown",
   "id": "285d8499",
   "metadata": {},
   "source": [
    "## 🎉 Success! \n",
    "\n",
    "Your Streamlit app is now ready to run! Here's how to use it:\n",
    "\n",
    "### To run the app:\n",
    "1. **From the notebook**: Run all cells above, then in a terminal run:\n",
    "   ```bash\n",
    "   streamlit run simple_streamlit_basic.py\n",
    "   ```\n",
    "\n",
    "2. **Or create your own file**: Copy the code from the cell above into a new `.py` file and run:\n",
    "   ```bash\n",
    "   streamlit run your_file.py\n",
    "   ```\n",
    "\n",
    "### What the app includes:\n",
    "- ✅ Interactive sliders and inputs\n",
    "- ✅ Sidebar controls  \n",
    "- ✅ Data visualization (tables and metrics)\n",
    "- ✅ Download functionality\n",
    "- ✅ Fun animations (balloons!)\n",
    "- ✅ Responsive layout with columns\n",
    "\n",
    "The app will open in your browser at `http://localhost:8501`\n"
   ]
  }
 ],
 "metadata": {
  "kernelspec": {
   "display_name": "venv",
   "language": "python",
   "name": "python3"
  },
  "language_info": {
   "codemirror_mode": {
    "name": "ipython",
    "version": 3
   },
   "file_extension": ".py",
   "mimetype": "text/x-python",
   "name": "python",
   "nbconvert_exporter": "python",
   "pygments_lexer": "ipython3",
   "version": "3.9.7"
  }
 },
 "nbformat": 4,
 "nbformat_minor": 5
}
